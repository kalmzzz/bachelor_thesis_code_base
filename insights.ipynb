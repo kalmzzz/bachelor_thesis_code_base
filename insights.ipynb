{
 "cells": [
  {
   "cell_type": "code",
   "execution_count": 6,
   "metadata": {},
   "outputs": [],
   "source": [
    "import os\n",
    "\n",
    "import torch\n",
    "import torch.nn as nn\n",
    "import torch.optim as optim\n",
    "import torch.nn.functional as F\n",
    "import torch.backends.cudnn as cudnn\n",
    "import torchvision\n",
    "import torchvision.transforms as transforms\n",
    "\n",
    "from captum.insights import AttributionVisualizer, Batch\n",
    "from captum.insights.features import ImageFeature\n",
    "\n",
    "from models import *"
   ]
  },
  {
   "cell_type": "code",
   "execution_count": 7,
   "metadata": {},
   "outputs": [],
   "source": [
    "device = 'cuda' if torch.cuda.is_available() else 'cpu'\n",
    "\n",
    "cudnn.benchmark = True"
   ]
  },
  {
   "cell_type": "code",
   "execution_count": 16,
   "metadata": {},
   "outputs": [],
   "source": [
    "def get_model():\n",
    "    basic_complete = CNN()\n",
    "    checkpoint_complete = torch.load('./checkpoint/basic_training_with_softmax')\n",
    "    basic_complete.load_state_dict(checkpoint_complete['net'])\n",
    "    basic_complete.eval()\n",
    "    return basic_complete\n",
    "\n",
    "def baseline_func(input):\n",
    "    return input * 0\n",
    "\n",
    "def formatted_data_iter():\n",
    "    dataset = torchvision.datasets.CIFAR10(\n",
    "        root=\"./data\", train=False, download=True, transform=transforms.ToTensor()\n",
    "    )\n",
    "    dataloader = iter(\n",
    "        torch.utils.data.DataLoader(dataset, batch_size=10, shuffle=False, num_workers=2)\n",
    "    )\n",
    "    while True:\n",
    "        images, labels = next(dataloader)\n",
    "        yield Batch(inputs=images, labels=labels)\n",
    "        \n",
    "def get_classes():\n",
    "    classes = [\n",
    "        \"Plane\",\n",
    "        \"Car\",\n",
    "        \"Bird\",\n",
    "        \"Cat\",\n",
    "        \"Deer\",\n",
    "        \"Dog\",\n",
    "        \"Frog\",\n",
    "        \"Horse\",\n",
    "        \"Ship\",\n",
    "        \"Truck\",\n",
    "    ]\n",
    "    return classes"
   ]
  },
  {
   "cell_type": "code",
   "execution_count": 17,
   "metadata": {
    "scrolled": false
   },
   "outputs": [
    {
     "data": {
      "application/vnd.jupyter.widget-view+json": {
       "model_id": "64105266a4b643c1a092a34be22bb539",
       "version_major": 2,
       "version_minor": 0
      },
      "text/plain": [
       "CaptumInsights(insights_config={'classes': ['Plane', 'Car', 'Bird', 'Cat', 'Deer', 'Dog', 'Frog', 'Horse', 'Sh…"
      ]
     },
     "metadata": {},
     "output_type": "display_data"
    },
    {
     "data": {
      "application/vnd.jupyter.widget-view+json": {
       "model_id": "ea992c724e054b7ca100663d173a5ebd",
       "version_major": 2,
       "version_minor": 0
      },
      "text/plain": [
       "Output()"
      ]
     },
     "metadata": {},
     "output_type": "display_data"
    }
   ],
   "source": [
    "normalize = transforms.Normalize((0.5, 0.5, 0.5), (0.5, 0.5, 0.5))\n",
    "model = get_model()\n",
    "visualizer = AttributionVisualizer(\n",
    "        models=[model],\n",
    "        #score_func=lambda o: torch.nn.functional.softmax(o, 1),\n",
    "        classes=get_classes(),\n",
    "        features=[\n",
    "            ImageFeature(\n",
    "                \"Input\",\n",
    "                baseline_transforms=[baseline_func],\n",
    "                input_transforms=[normalize],\n",
    "            )\n",
    "        ],\n",
    "        dataset=formatted_data_iter(),\n",
    "    )\n",
    "\n",
    "visualizer.render()"
   ]
  },
  {
   "cell_type": "code",
   "execution_count": null,
   "metadata": {},
   "outputs": [],
   "source": []
  }
 ],
 "metadata": {
  "kernelspec": {
   "display_name": "Python 3",
   "language": "python",
   "name": "python3"
  },
  "language_info": {
   "codemirror_mode": {
    "name": "ipython",
    "version": 3
   },
   "file_extension": ".py",
   "mimetype": "text/x-python",
   "name": "python",
   "nbconvert_exporter": "python",
   "pygments_lexer": "ipython3",
   "version": "3.8.2"
  }
 },
 "nbformat": 4,
 "nbformat_minor": 2
}
